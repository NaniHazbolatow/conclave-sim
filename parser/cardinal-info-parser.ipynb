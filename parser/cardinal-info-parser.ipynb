{
 "cells": [
  {
   "cell_type": "code",
   "execution_count": 1,
   "id": "e82707a4",
   "metadata": {},
   "outputs": [],
   "source": [
    "from selenium import webdriver\n",
    "from selenium.webdriver.common.by import By\n",
    "from selenium.webdriver.chrome.service import Service\n",
    "from selenium.webdriver.chrome.options import Options\n",
    "import unicodedata\n",
    "from IPython.display import clear_output\n",
    "import time\n",
    "import csv\n"
   ]
  },
  {
   "cell_type": "code",
   "execution_count": 2,
   "id": "2660d511",
   "metadata": {},
   "outputs": [],
   "source": [
    "# Function for name formatting\n",
    "\n",
    "def to_ascii(text):\n",
    "    return unicodedata.normalize('NFKD', text).encode('ascii', 'ignore').decode('ascii')"
   ]
  },
  {
   "cell_type": "code",
   "execution_count": 3,
   "id": "684bdbbe",
   "metadata": {},
   "outputs": [
    {
     "name": "stdout",
     "output_type": "stream",
     "text": [
      "['Santos Abril y Castelló', 'Angelo Acerbi', 'José Fuerte Advincula', 'Américo Manuel Aguiar Alves', 'Carlos Aguiar Retes', 'George Alencherry', 'Fridolin Ambongo Besungu', 'Ennio Antonelli', 'Celestino Aós Braco', 'Anders Arborelius', 'Francis Arinze', 'Felipe Arizmendi Esquivel', 'Raymundo Damasceno Assis', 'Jean-Marc Aveline', 'João Braz de Aviz', 'Audrys Juozas Bačkis', 'Fabio Baggio', 'Angelo Bagnasco', 'Lorenzo Baldisseri', 'Philippe Barbarin', 'Pedro Ricardo Barreto Jimeno', 'Cleemis Baselios', 'Gualtiero Bassetti', 'Domenico Battaglia', 'Giovanni Angelo Becciu', 'Giuseppe Bertello', 'Tarcisio Bertone', 'Ignace Bessi Dogbo', 'Giuseppe Betori', 'Ricardo Blázquez Pérez', 'Charles Maung Bo', 'Aquilino Bocos Merino', 'Vincente Bokalic Iglic', 'Josip Bozanić', 'Seán Baptist Brady', 'Walter Brandmüller', 'Leopoldo José Brenes Solórzano', 'Stephen Brislin', 'Raymond Leo Burke', 'François-Xavier Bustillo', 'Mykola Bychok', 'Luis Gerardo Cabrera Herrera', 'Domenico Calcagno', 'Antonio Cañizares Llovera', 'Raniero Cantalamessa', 'Oscar Cantoni', 'Carlos Gustavo Castillo Mattasoglio', 'Gregorio Rosa Chávez', 'Fernando Natalio Chomalí Garib', 'Stephen Chow Sau-yan', 'Juan Luis Cipriani Thorne', 'Manuel do Nascimento Clemente', 'José Cobo Cano', 'Francesco Coccopalmerio', 'Thomas Christopher Collins', 'Angelo Comastri', 'Paulo Cezar Costa', 'Joseph Coutts', 'Blase Joseph Cupich', 'Michael Czerny', \"Patrick D'Rozario\", 'Julius Riyadi Darmaatmadja', 'Pablo Virgilio Siongco David', 'Angelo De Donatis', 'Salvatore De Giorgi', 'Jozef De Kesel', 'John Atcherley Dew', 'Daniel Nicholas DiNardo', 'Virgilio Do Carmo da Silva', 'Timothy Michael Dolan', 'Luis Pascual Dri', 'Dominik Jaroslav Duka', 'Stanisław Dziwisz', 'Willem Jacobus Eijk', 'Péter Erdő', 'Francisco Javier Errázuriz Ossa', 'Ricardo Ezzati Andrello', 'Raffaele Farina', 'Kevin Joseph Farrell', 'Víctor Manuel Fernández', 'Ángel Fernández Artime', 'Enrico Feroci', 'Filipe Neri Ferrão', 'Fernando Filoni', 'Michael Louis Fitzgerald', 'Sebastian Francis', 'Fortunato Frezza', 'Mauro Gambetti', 'Juan de la Caridad García Rodríguez', 'Gianfranco Ghirlanda', 'William Seng Chye Goh', 'Arlindo Gomes Furtado', 'Rubén Salazar Gómez', 'Oswald Gracias', 'Mario Grech', 'Wilton Daniel Gregory', 'Claudio Gugerotti', 'James Michael Harvey', 'Julián Herranz Casado', 'Jean-Claude Hollerich', 'John Tong Hon', 'Juan Sandoval Iñiguez', 'Jorge Enrique Jiménez Carvajal', 'Antoine Kambanda', 'Estanislao Esteban Karlic', 'Walter Kasper', 'Tarcisio Isao Kikuchi', 'Michael Mitchai Kitbunchu', 'Kurt Koch', 'George Jacob Koovakad', 'Francis Xavier Kriengsak Kovithavanij', 'Konrad Krajewski', 'Jean-Pierre Kutwa', 'Gérald Cyprien Lacroix', 'José Luis Lacunza Maestrojuán', 'Luis Francisco Ladaria Ferrer', 'Giovanni Lajolo', 'Júlio Duarte Langa', 'Chibly Langlois', 'Francis Leo', 'Augusto Paolo Lojudice', 'Nicolás de Jesús Lopéz Rodríguez', 'Cristóbal López Romero', 'Thomas Aquino Manyo Maeda', 'Soane Patita Paini Mafi', 'Roger Michael Mahony', 'Adam Joseph Maida', 'Rolandas Makrickas', 'Dominique Mamberti', 'Louis-Marie Ling Mangkhanekhoun', 'Agostino Marchetto', 'Giorgio Marengo', 'Adalberto Martínez Flores', 'Lluís Martínez Sistach', 'José Saraiva Martins', 'António Augusto dos Santos Marto', 'Reinhard Marx', 'Dominique Joseph Mathieu', 'Robert Walter McElroy', 'Edoardo Menichelli', 'Arrigo Miglio', 'Manuel Monteiro de Castro', 'Francesco Montenegro', 'Francesco Monterisi', 'Stephen Ameyu Martin Mulla', 'Gerhard Ludwig Müller', 'Lucian Mureşan', 'Wilfrid Fox Napier', 'Ladislav Nemet', 'Pierre Nguyên Văn Nhon', 'Vincent Gerard Nichols', 'John Njue', 'Kazimierz Nycz', 'Dieudonné Nzapalainga', \"Edwin Frederick O'Brien\", \"Seán Patrick O'Malley\", 'Anthony Olubunmi Okogie', 'Peter Ebere Okpaleke', 'Juan José Omella Omella', 'John Olorunfemi Onaiyekan', 'Carlos Osoro Sierra', 'Nakellentuba Philippe Ouédraogo', 'Marc Ouellet', 'Diego Rafael Padrón Sánchez', 'Pietro Parolin', 'Polycarp Pengo', 'Giuseppe Petrocchi', 'Jean-Baptiste Pham Minh Mân', 'Mauro Piacenza', 'Maurice Piat', 'Christophe Pierre', 'Pierbattista Pizzaballa', 'Mario Aurelio Poli', 'Anthony Poola', 'Baltazar Enrique Porras Cardozo', 'Paul Poupard', 'Robert Francis Prevost', 'Jānis Pujats', 'Vinko Puljić', 'Orlando Beltran Quevedo', 'Timothy Peter Joseph Radcliffe', 'Béchara Boutros Raï', 'Álvaro Leonel Ramazzini Imeri', 'Albert Malcolm Ranjith Patabendige Don', 'Gianfranco Ravasi', 'Giovanni Battista Re', 'Baldassare Reina', 'Roberto Repole', 'John Ribat', 'Jean-Pierre Ricard', 'Justin Francis Rigali', 'Norberto Rivera Carrera', 'Francisco Robles Ortega', 'Sérgio da Rocha', 'Arthur Roche', 'Franc Rodé', 'Óscar Andrés Rodríguez Maradiaga', 'Paolo Romeo', 'Gaudencio Borbon Rosales', 'Ángel Sixto Rossi', 'Antonio María Rouco Varela', 'Luis José Rueda Aparicio', 'Protase Rugambwa', 'Camillo Ruini', 'Stanisław Ryłko', 'Grzegorz Ryś', 'Louis Raphaël Sako', 'Leonardo Sandri', 'Robert Sarah', 'Théodore-Adrien Sarr', 'Odilo Pedro Scherer', 'Christoph Schönborn', 'Angelo Scola', 'Marcello Semeraro', 'Crescenzio Sepe', 'Ernest Simoni Troshani', 'Berhaneyesus Demerew Souraphiel', 'Jaime Spengler', 'James Francis Stafford', 'Leonardo Ulrich Steiner', 'Beniamino Stella', 'Daniel Fernando Sturla', 'Alberto Suárez Inda', 'Ignatius Suharyo Hardjoatmodjo', 'Luis Antonio Gokim Tagle', 'Sigitas Tamkevičius', 'Orani Joāo Tempesta', 'Toribio Ticona Porco', 'Joseph William Tobin', 'José Tolentino de Mendonça', 'Silvano Tomasi', 'Désiré Tsarahazana', 'Emil Paul Tscherrig', 'Peter Kodwo Appia Turkson', 'Agostino Vallini', 'Antonio Maria Veglìo', 'Fernando Vérgez Alzaga', 'Giuseppe Versaldi', 'Jean-Paul Vesco', 'Luis Héctor Villalba', 'André Vingt-Trois', 'Emmanuel Wamala', 'Friedrich Wetter', 'Rainer Maria Woelki', 'Donald William Wuerl', 'Andrew Yeom Soo-Jung', 'Lazzaro You Heung-sik', 'Zen Ze-Kiun', 'Mario Zenari', 'Jean Zerbo', 'Gabriel Zubeir Wako', 'Matteo Maria Zuppi']\n",
      "252\n"
     ]
    }
   ],
   "source": [
    "# Get the list of names\n",
    "\n",
    "# Setup\n",
    "options = Options()\n",
    "options.add_argument(\"--headless\")\n",
    "driver = webdriver.Chrome(options=options)\n",
    "\n",
    "# Open the site\n",
    "driver.get(\"https://collegeofcardinalsreport.com/cardinals/\")\n",
    "time.sleep(2)\n",
    "\n",
    "# Optional: click 'Show full list'\n",
    "try:\n",
    "    show_button = driver.find_element(By.XPATH, '//*[contains(text(), \"Show full list\")]')\n",
    "    show_button.click()\n",
    "    time.sleep(2)  # wait for content to load\n",
    "except:\n",
    "    print(\"Show full list button not found or already loaded.\")\n",
    "\n",
    "# Grab all name elements\n",
    "name_elements = driver.find_elements(By.XPATH, '//*[contains(text(), \"Cardinal \")]')\n",
    "\n",
    "# Extract names by removing the \"Cardinal \" prefix\n",
    "names = [el.text.replace(\"Cardinal \", \"\").strip() for el in name_elements]\n",
    "names.pop(-1)\n",
    "\n",
    "print(names)\n",
    "print(len(names))\n",
    "\n",
    "names_formatted = [to_ascii(name.replace(\"ł\", 'l')).strip().lower().replace(' ', '-').replace(\"'\", '') for name in names]\n",
    "\n",
    "driver.quit()"
   ]
  },
  {
   "cell_type": "code",
   "execution_count": 4,
   "id": "f2d33ceb",
   "metadata": {},
   "outputs": [],
   "source": [
    "# Setup informatin dictionary\n",
    "\n",
    "assert len(names) == len(names_formatted), \"List length does not match\"\n",
    "\n",
    "info = {}\n",
    "for i, name in enumerate(names):\n",
    "    info[name] = {\"formatted_name\" : names_formatted[i]}"
   ]
  },
  {
   "cell_type": "code",
   "execution_count": 5,
   "id": "86953079",
   "metadata": {},
   "outputs": [
    {
     "name": "stdout",
     "output_type": "stream",
     "text": [
      "252\n"
     ]
    }
   ],
   "source": [
    "# Obtain the summaries\n",
    "\n",
    "options = Options()\n",
    "options.add_argument(\"--lang=en-US\")  \n",
    "options.add_argument(\"--headless\")  \n",
    "driver = webdriver.Chrome(options=options)\n",
    "\n",
    "try:\n",
    "    for i, name in enumerate(names):\n",
    "        try:\n",
    "            driver.get(f\"https://collegeofcardinalsreport.com/cardinals/{info[name]['formatted_name']}\")\n",
    "\n",
    "            try:\n",
    "                summary_div = driver.find_element(By.CLASS_NAME, \"cardinals-summary-block\")\n",
    "                summary_text = summary_div.text\n",
    "            except:\n",
    "                # time.sleep(2)\n",
    "                driver.get(f\"https://collegeofcardinalsreport.com/cardinals/cardinal-{info[name]['formatted_name']}\")\n",
    "                summary_div = driver.find_element(By.CLASS_NAME, \"cardinals-summary-block\")\n",
    "                summary_text = summary_div.text\n",
    "\n",
    "            i = i + 1\n",
    "            clear_output(wait=True)\n",
    "            print(i)\n",
    "\n",
    "            info[name][\"summary\"] = summary_text\n",
    "            \n",
    "        except Exception as e:\n",
    "            print(f\"Error processing {name}: {e}\")\n",
    "            # Continue with next cardinal instead of quitting\n",
    "            print(f\"searched for: {info[name]['formatted_name']}\")\n",
    "            continue\n",
    "            \n",
    "finally:\n",
    "    driver.quit()"
   ]
  },
  {
   "cell_type": "code",
   "execution_count": 6,
   "id": "8aa979d9",
   "metadata": {},
   "outputs": [
    {
     "name": "stdout",
     "output_type": "stream",
     "text": [
      "Cant find the following names, please add manually via: https://collegeofcardinalsreport.com/cardinals/\n",
      "Christophe Pierre (christophe-pierre)\n",
      "Ernest Simoni Troshani (ernest-simoni-troshani)\n"
     ]
    }
   ],
   "source": [
    "# Go through the names that have not worked\n",
    "\n",
    "print(\"Cant find the following names, please add manually via: https://collegeofcardinalsreport.com/cardinals/\")\n",
    "\n",
    "no_summary = [(name, data[\"formatted_name\"]) for name, data in info.items() if \"summary\" not in data or not data[\"summary\"].strip()]\n",
    "for name, formatted in no_summary:\n",
    "    print(f\"{name} ({formatted})\")"
   ]
  },
  {
   "cell_type": "code",
   "execution_count": 14,
   "id": "08feb786",
   "metadata": {},
   "outputs": [],
   "source": [
    "info[\"Christophe Pierre\"][\"summary\"] = \"Cardinal Christophe Louis Yves Georges Pierre, the apostolic nuncio to the United States, is an accomplished veteran Vatican diplomat who has had to deal — not always successfully — with tense relations between the American episcopate and the Francis pontificate. Born on January 30, 1946 in Rennes, France, Pierre completed his primary education in Madagascar and secondary schooling in France and Morocco before entering the seminary. After military service, he was ordained a priest for the diocese of Rennes, in the cathedral of Saint-Malo, on 5 April 1970. Pierre then pursued higher education, obtaining a Master's in Sacred Theology from the Catholic Institute of Paris, and a Doctorate in Canon Law in Rome. After completing further studies at the Pontifical Ecclesiastical Academy, the Holy See's training school for diplomats in Rome, Pierre's diplomatic career with the Holy See began in 1977, taking him to various postings around the world including New Zealand, Mozambique, Zimbabwe, Cuba, and Brazil. From 1991 to 1995, he was the Holy See's Permanent Observer to the United Nations in Geneva. In 1995 Pope John Paul II named him apostolic nuncio to Haiti. He went on to serve as nuncio to Uganda from 1999 to 2007 and to Mexico from 2007 to 2016. In 2016, Pope Francis appointed Pierre Apostolic Nuncio to the United States, succeeding Archbishop Carlo Maria Viganò who had retired on age grounds. In September 2023, Pope Francis elevated Pierre to the rank of cardinal – an unusual step as most apostolic nuncios to the U.S. are given the red hat after they leave the office. It is also rare, at least until Francis' pontificate, for an active papal diplomat to be made a cardinal. Cardinal Pierre has been described as a diplomat who aims to quell conflicts and promote harmony within the Church and he has had occasional successes in bridging divides and promote unity among Catholics. This was particularly apparent during his posting in Mexico where he was credited with overcoming political divisions. On the Eucharist, Cardinal Pierre strongly supported the recent National Eucharistic Revival in the United States. He said he saw it as a way to 'renew the Church' and believes the revival should lead to conversion of heart, commitment to evangelization, service, and community. Pierre emphasized the importance of believing in Christ's Real Presence in the Eucharist, stressing it is a source of unity for the Church, but also saying it means recognizing Christ 'in the assembly of His believing people' and even in those struggling to connect with Him. Pierre connects the Eucharistic revival with the concept of synodality promoted by Pope Francis, and he has encouraged U.S. bishops to embrace synodality as 'the path forward for the Church.' He sees both the Eucharist and synodality as interrelated paths for the Church's renewal and evangelization efforts. The French Vatican diplomat has affirmed that the Church 'must be unapologetically pro-life' and that the she cannot abandon its defence of innocent human life. He advocates a 'synodal approach' to abortion, stressing the need to listen and understand rather than simply condemn. Pierre's tenure in the U.S. has not been without problems. He faced several challenges, including mediating tensions between American bishops and the Vatican on issues such as the McCarrick scandal, the COVID-19 pandemic response, and disagreements over liturgical and doctrinal matters. And although he found some common ground with bishops on immigration (Pierre has been a strong advocate for immigrants and participated in demonstrations with border bishops against building walls on the border with Mexico), he has also faced several criticisms. These include his handling of episcopal misconduct cases related to clerical sex abuse in the U.S. and his reported reluctance to engage with the press on such matters. Other critics have said he has shown some misunderstanding of the U.S. Church, and have asserted that he has isolated himself from U.S. bishops, leading to diminishing support for him in the episcopate. Traditional Catholics have criticized Pierre for his strident views against the traditional liturgy and for reportedly pressuring diocesan bishops to cancel thriving Latin Masses in the United States. He has spoken negatively of young priests who 'dream about wearing cassocks and celebrating Mass in the pre-Vatican II way.' He sees this as potentially problematic, and as a response to feeling lost in modern society. Meanwhile, critics on the progressive wing of the Church have noted his struggle to help U.S. bishops connect with Pope Francis's vision, particularly regarding synodality. They also contend that he is regularly at odds with progressive U.S. cardinals such as Blase Cupich and Robert McElroy who have direct lines to the Pope. For his part, Pierre has been critical of the conservative Catholic press, but reportedly unwilling to consider reasons for their criticisms of Pope Francis. Regarding his role in helping to appoint bishops, Cardinal Pierre has been credited for helping a number of conservative-leaning priests to be elevated to the U.S. episcopate. Cardinal Pierre is known for his linguistic abilities, and speaks French, English, Italian, Spanish, and Portuguese fluently.\""
   ]
  },
  {
   "cell_type": "code",
   "execution_count": 16,
   "id": "682bd9e0",
   "metadata": {},
   "outputs": [],
   "source": [
    "info[\"Ernest Simoni Troshani\"][\"summary\"] = \"Cardinal Ernest Simoni Troshani's life is a remarkable testimony to faith, forgiveness and perseverance having spent eighteen years in jail at the hands of Albanian communists, during which time he endured torture and harsh conditions that continued even after his release. Born on October 18, 1928, in Troshani, Albania, at the age of ten he entered the Franciscan College in Troshani to begin his formation for the priesthood. However, his path was disrupted in 1948 when the communist regime of Enver Hoxha began its persecution of religious institutions in the country. Despite the challenges, Simoni continued his theological studies clandestinely and was ordained priest on April 7, 1956, in Shkodrë. His ministry was marked by dedication and courage, even in the face of growing oppression. On Christmas Eve 1963, after celebrating Mass, Simoni was arrested and imprisoned. He was initially sentenced to death, but the sentence was commuted to twenty-five years of hard labor. During his eighteen years of imprisonment, Simoni endured torture and harsh conditions, including work in mines and sewage canals. Despite these hardships, he remained steadfast in his faith, secretly celebrating Mass from memory and hearing confessions of fellow prisoners. After his release in 1981, he was still considered an 'enemy of the people' and was forced to work in the Shkodrë sewers, but he continued to exercise his priestly ministry clandestinely until the fall of the communist regime in 1990. Simoni's extraordinary witness to faith caught the attention of Pope Francis during his visit to Albania in 2014 and on November 19, 2016, he elevated Simoni to the rank of cardinal, assigning him the titular church of Santa Maria della Scala. The appointment was also symbolic, honoring the suffering of Albanian Catholics under communism and promoting their courageous witness to the wider Catholic world. Throughout his life, Cardinal Simoni has been a testament to forgiveness and perseverance. He never used words of hate or resentment towards his jailers, believing that 'only love conquers.'' Now in his 90s, Cardinal Simoni continues to share his powerful testimony with communities around the world, reminding people of the strength of faith in the face of adversity.\""
   ]
  },
  {
   "cell_type": "code",
   "execution_count": 18,
   "id": "04cbf32b",
   "metadata": {},
   "outputs": [],
   "source": [
    "# Save to scv\n",
    "\n",
    "with open('cardinals_info.csv', 'w', newline='', encoding='utf-8') as csvfile:\n",
    "    writer = csv.writer(csvfile)\n",
    "    writer.writerow(['name', 'formatted_name', 'summary'])\n",
    "    for name, data in info.items():\n",
    "        summary = data.get(\"summary\", \"\").replace('\\n', ' ')\n",
    "        writer.writerow([name, data[\"formatted_name\"], summary])"
   ]
  }
 ],
 "metadata": {
  "kernelspec": {
   "display_name": "Python 3",
   "language": "python",
   "name": "python3"
  },
  "language_info": {
   "codemirror_mode": {
    "name": "ipython",
    "version": 3
   },
   "file_extension": ".py",
   "mimetype": "text/x-python",
   "name": "python",
   "nbconvert_exporter": "python",
   "pygments_lexer": "ipython3",
   "version": "3.12.6"
  }
 },
 "nbformat": 4,
 "nbformat_minor": 5
}
