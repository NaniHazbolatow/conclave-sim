{
 "cells": [
  {
   "cell_type": "code",
   "execution_count": 1,
   "id": "e82707a4",
   "metadata": {},
   "outputs": [],
   "source": [
    "from selenium import webdriver\n",
    "from selenium.webdriver.common.by import By\n",
    "from selenium.webdriver.chrome.service import Service\n",
    "from selenium.webdriver.chrome.options import Options\n",
    "import unicodedata\n",
    "from IPython.display import clear_output\n",
    "import time\n",
    "import csv\n"
   ]
  },
  {
   "cell_type": "code",
   "execution_count": 2,
   "id": "2660d511",
   "metadata": {},
   "outputs": [],
   "source": [
    "# Function for name formatting\n",
    "\n",
    "def to_ascii(text):\n",
    "    return unicodedata.normalize('NFKD', text).encode('ascii', 'ignore').decode('ascii')"
   ]
  },
  {
   "cell_type": "code",
   "execution_count": 3,
   "id": "684bdbbe",
   "metadata": {},
   "outputs": [
    {
     "name": "stdout",
     "output_type": "stream",
     "text": [
      "['Santos Abril y Castelló', 'Angelo Acerbi', 'José Fuerte Advincula', 'Américo Manuel Aguiar Alves', 'Carlos Aguiar Retes', 'George Alencherry', 'Fridolin Ambongo Besungu', 'Ennio Antonelli', 'Celestino Aós Braco', 'Anders Arborelius', 'Francis Arinze', 'Felipe Arizmendi Esquivel', 'Raymundo Damasceno Assis', 'Jean-Marc Aveline', 'João Braz de Aviz', 'Audrys Juozas Bačkis', 'Fabio Baggio', 'Angelo Bagnasco', 'Lorenzo Baldisseri', 'Philippe Barbarin', 'Pedro Ricardo Barreto Jimeno', 'Cleemis Baselios', 'Gualtiero Bassetti', 'Domenico Battaglia', 'Giovanni Angelo Becciu', 'Giuseppe Bertello', 'Tarcisio Bertone', 'Ignace Bessi Dogbo', 'Giuseppe Betori', 'Ricardo Blázquez Pérez', 'Charles Maung Bo', 'Aquilino Bocos Merino', 'Vincente Bokalic Iglic', 'Josip Bozanić', 'Seán Baptist Brady', 'Walter Brandmüller', 'Leopoldo José Brenes Solórzano', 'Stephen Brislin', 'Raymond Leo Burke', 'François-Xavier Bustillo', 'Mykola Bychok', 'Luis Gerardo Cabrera Herrera', 'Domenico Calcagno', 'Antonio Cañizares Llovera', 'Raniero Cantalamessa', 'Oscar Cantoni', 'Carlos Gustavo Castillo Mattasoglio', 'Gregorio Rosa Chávez', 'Fernando Natalio Chomalí Garib', 'Stephen Chow Sau-yan', 'Juan Luis Cipriani Thorne', 'Manuel do Nascimento Clemente', 'José Cobo Cano', 'Francesco Coccopalmerio', 'Thomas Christopher Collins', 'Angelo Comastri', 'Paulo Cezar Costa', 'Joseph Coutts', 'Blase Joseph Cupich', 'Michael Czerny', \"Patrick D'Rozario\", 'Julius Riyadi Darmaatmadja', 'Pablo Virgilio Siongco David', 'Angelo De Donatis', 'Salvatore De Giorgi', 'Jozef De Kesel', 'John Atcherley Dew', 'Daniel Nicholas DiNardo', 'Virgilio Do Carmo da Silva', 'Timothy Michael Dolan', 'Luis Pascual Dri', 'Dominik Jaroslav Duka', 'Stanisław Dziwisz', 'Willem Jacobus Eijk', 'Péter Erdő', 'Francisco Javier Errázuriz Ossa', 'Ricardo Ezzati Andrello', 'Raffaele Farina', 'Kevin Joseph Farrell', 'Víctor Manuel Fernández', 'Ángel Fernández Artime', 'Enrico Feroci', 'Filipe Neri Ferrão', 'Fernando Filoni', 'Michael Louis Fitzgerald', 'Sebastian Francis', 'Fortunato Frezza', 'Mauro Gambetti', 'Juan de la Caridad García Rodríguez', 'Gianfranco Ghirlanda', 'William Seng Chye Goh', 'Arlindo Gomes Furtado', 'Rubén Salazar Gómez', 'Oswald Gracias', 'Mario Grech', 'Wilton Daniel Gregory', 'Claudio Gugerotti', 'James Michael Harvey', 'Julián Herranz Casado', 'Jean-Claude Hollerich', 'John Tong Hon', 'Juan Sandoval Iñiguez', 'Jorge Enrique Jiménez Carvajal', 'Antoine Kambanda', 'Estanislao Esteban Karlic', 'Walter Kasper', 'Tarcisio Isao Kikuchi', 'Michael Mitchai Kitbunchu', 'Kurt Koch', 'George Jacob Koovakad', 'Francis Xavier Kriengsak Kovithavanij', 'Konrad Krajewski', 'Jean-Pierre Kutwa', 'Gérald Cyprien Lacroix', 'José Luis Lacunza Maestrojuán', 'Luis Francisco Ladaria Ferrer', 'Giovanni Lajolo', 'Júlio Duarte Langa', 'Chibly Langlois', 'Francis Leo', 'Augusto Paolo Lojudice', 'Nicolás de Jesús Lopéz Rodríguez', 'Cristóbal López Romero', 'Thomas Aquino Manyo Maeda', 'Soane Patita Paini Mafi', 'Roger Michael Mahony', 'Adam Joseph Maida', 'Rolandas Makrickas', 'Dominique Mamberti', 'Louis-Marie Ling Mangkhanekhoun', 'Agostino Marchetto', 'Giorgio Marengo', 'Adalberto Martínez Flores', 'Lluís Martínez Sistach', 'José Saraiva Martins', 'António Augusto dos Santos Marto', 'Reinhard Marx', 'Dominique Joseph Mathieu', 'Robert Walter McElroy', 'Edoardo Menichelli', 'Arrigo Miglio', 'Manuel Monteiro de Castro', 'Francesco Montenegro', 'Francesco Monterisi', 'Stephen Ameyu Martin Mulla', 'Gerhard Ludwig Müller', 'Lucian Mureşan', 'Wilfrid Fox Napier', 'Ladislav Nemet', 'Pierre Nguyên Văn Nhon', 'Vincent Gerard Nichols', 'John Njue', 'Kazimierz Nycz', 'Dieudonné Nzapalainga', \"Edwin Frederick O'Brien\", \"Seán Patrick O'Malley\", 'Anthony Olubunmi Okogie', 'Peter Ebere Okpaleke', 'Juan José Omella Omella', 'John Olorunfemi Onaiyekan', 'Carlos Osoro Sierra', 'Nakellentuba Philippe Ouédraogo', 'Marc Ouellet', 'Diego Rafael Padrón Sánchez', 'Pietro Parolin', 'Polycarp Pengo', 'Giuseppe Petrocchi', 'Jean-Baptiste Pham Minh Mân', 'Mauro Piacenza', 'Maurice Piat', 'Christophe Pierre', 'Pierbattista Pizzaballa', 'Mario Aurelio Poli', 'Anthony Poola', 'Baltazar Enrique Porras Cardozo', 'Paul Poupard', 'Robert Francis Prevost', 'Jānis Pujats', 'Vinko Puljić', 'Orlando Beltran Quevedo', 'Timothy Peter Joseph Radcliffe', 'Béchara Boutros Raï', 'Álvaro Leonel Ramazzini Imeri', 'Albert Malcolm Ranjith Patabendige Don', 'Gianfranco Ravasi', 'Giovanni Battista Re', 'Baldassare Reina', 'Roberto Repole', 'John Ribat', 'Jean-Pierre Ricard', 'Justin Francis Rigali', 'Norberto Rivera Carrera', 'Francisco Robles Ortega', 'Sérgio da Rocha', 'Arthur Roche', 'Franc Rodé', 'Óscar Andrés Rodríguez Maradiaga', 'Paolo Romeo', 'Gaudencio Borbon Rosales', 'Ángel Sixto Rossi', 'Antonio María Rouco Varela', 'Luis José Rueda Aparicio', 'Protase Rugambwa', 'Camillo Ruini', 'Stanisław Ryłko', 'Grzegorz Ryś', 'Louis Raphaël Sako', 'Leonardo Sandri', 'Robert Sarah', 'Théodore-Adrien Sarr', 'Odilo Pedro Scherer', 'Christoph Schönborn', 'Angelo Scola', 'Marcello Semeraro', 'Crescenzio Sepe', 'Ernest Simoni Troshani', 'Berhaneyesus Demerew Souraphiel', 'Jaime Spengler', 'James Francis Stafford', 'Leonardo Ulrich Steiner', 'Beniamino Stella', 'Daniel Fernando Sturla', 'Alberto Suárez Inda', 'Ignatius Suharyo Hardjoatmodjo', 'Luis Antonio Gokim Tagle', 'Sigitas Tamkevičius', 'Orani Joāo Tempesta', 'Toribio Ticona Porco', 'Joseph William Tobin', 'José Tolentino de Mendonça', 'Silvano Tomasi', 'Désiré Tsarahazana', 'Emil Paul Tscherrig', 'Peter Kodwo Appia Turkson', 'Agostino Vallini', 'Antonio Maria Veglìo', 'Fernando Vérgez Alzaga', 'Giuseppe Versaldi', 'Jean-Paul Vesco', 'Luis Héctor Villalba', 'André Vingt-Trois', 'Emmanuel Wamala', 'Friedrich Wetter', 'Rainer Maria Woelki', 'Donald William Wuerl', 'Andrew Yeom Soo-Jung', 'Lazzaro You Heung-sik', 'Zen Ze-Kiun', 'Mario Zenari', 'Jean Zerbo', 'Gabriel Zubeir Wako', 'Matteo Maria Zuppi']\n",
      "252\n"
     ]
    }
   ],
   "source": [
    "# Get the list of names\n",
    "\n",
    "# Setup\n",
    "options = Options()\n",
    "options.add_argument(\"--headless\")\n",
    "driver = webdriver.Chrome(options=options)\n",
    "\n",
    "# Open the site\n",
    "driver.get(\"https://collegeofcardinalsreport.com/cardinals/\")\n",
    "time.sleep(2)\n",
    "\n",
    "# Optional: click 'Show full list'\n",
    "try:\n",
    "    show_button = driver.find_element(By.XPATH, '//*[contains(text(), \"Show full list\")]')\n",
    "    show_button.click()\n",
    "    time.sleep(2)  # wait for content to load\n",
    "except:\n",
    "    print(\"Show full list button not found or already loaded.\")\n",
    "\n",
    "# Grab all name elements\n",
    "name_elements = driver.find_elements(By.XPATH, '//*[contains(text(), \"Cardinal \")]')\n",
    "\n",
    "# Extract names by removing the \"Cardinal \" prefix\n",
    "names = [el.text.replace(\"Cardinal \", \"\").strip() for el in name_elements]\n",
    "names.pop(-1)\n",
    "\n",
    "print(names)\n",
    "print(len(names))\n",
    "\n",
    "names_formatted = [to_ascii(name.replace(\"ł\", 'l')).strip().lower().replace(' ', '-').replace(\"'\", '') for name in names]\n",
    "\n",
    "driver.quit()"
   ]
  },
  {
   "cell_type": "code",
   "execution_count": 4,
   "id": "f2d33ceb",
   "metadata": {},
   "outputs": [],
   "source": [
    "# Setup informatin dictionary\n",
    "\n",
    "assert len(names) == len(names_formatted), \"List length does not match\"\n",
    "\n",
    "info = {}\n",
    "for i, name in enumerate(names):\n",
    "    info[name] = {\"formatted_name\" : names_formatted[i]}"
   ]
  },
  {
   "cell_type": "code",
   "execution_count": null,
   "id": "86953079",
   "metadata": {},
   "outputs": [
    {
     "name": "stdout",
     "output_type": "stream",
     "text": [
      "97\n"
     ]
    }
   ],
   "source": [
    "# Obtain the summaries\n",
    "\n",
    "options = Options()\n",
    "options.add_argument(\"--lang=en-US\")  \n",
    "options.add_argument(\"--headless\")  \n",
    "driver = webdriver.Chrome(options=options)\n",
    "\n",
    "try:\n",
    "    for i, name in enumerate(names):\n",
    "        try:\n",
    "            driver.get(f\"https://collegeofcardinalsreport.com/cardinals/{info[name]['formatted_name']}\")\n",
    "\n",
    "            try:\n",
    "                summary_div = driver.find_element(By.CLASS_NAME, \"cardinals-summary-block\")\n",
    "                summary_text = summary_div.text\n",
    "            except:\n",
    "                # time.sleep(2)\n",
    "                driver.get(f\"https://collegeofcardinalsreport.com/cardinals/cardinal-{info[name]['formatted_name']}\")\n",
    "                summary_div = driver.find_element(By.CLASS_NAME, \"cardinals-summary-block\")\n",
    "                summary_text = summary_div.text\n",
    "\n",
    "            i = i + 1\n",
    "            clear_output(wait=True)\n",
    "            print(i)\n",
    "\n",
    "            info[name][\"summary\"] = summary_text\n",
    "            \n",
    "        except Exception as e:\n",
    "            print(f\"Error processing {name}: {e}\")\n",
    "            # Continue with next cardinal instead of quitting\n",
    "            print(f\"searched for: {info[name]['formatted_name']}\")\n",
    "            continue\n",
    "            \n",
    "finally:\n",
    "    driver.quit()"
   ]
  },
  {
   "cell_type": "code",
   "execution_count": null,
   "id": "8aa979d9",
   "metadata": {},
   "outputs": [],
   "source": [
    "# Go through the names that have not worked\n",
    "\n",
    "print(\"Cant find the following names, please add manually via: https://collegeofcardinalsreport.com/cardinals/\")\n",
    "\n",
    "no_summary = [(name, data[\"formatted_name\"]) for name, data in info.items() if \"summary\" not in data or not data[\"summary\"].strip()]\n",
    "for name, formatted in no_summary:\n",
    "    print(f\"{name} ({formatted})\")"
   ]
  },
  {
   "cell_type": "code",
   "execution_count": null,
   "id": "04cbf32b",
   "metadata": {},
   "outputs": [],
   "source": [
    "# Save to scv\n",
    "\n",
    "with open('cardinals_info.csv', 'w', newline='', encoding='utf-8') as csvfile:\n",
    "    writer = csv.writer(csvfile)\n",
    "    writer.writerow(['name', 'formatted_name', 'summary'])\n",
    "    for name, data in info.items():\n",
    "        summary = data.get(\"summary\", \"\").replace('\\n', ' ')\n",
    "        writer.writerow([name, data[\"formatted_name\"], summary])"
   ]
  }
 ],
 "metadata": {
  "kernelspec": {
   "display_name": "Python 3",
   "language": "python",
   "name": "python3"
  },
  "language_info": {
   "codemirror_mode": {
    "name": "ipython",
    "version": 3
   },
   "file_extension": ".py",
   "mimetype": "text/x-python",
   "name": "python",
   "nbconvert_exporter": "python",
   "pygments_lexer": "ipython3",
   "version": "3.12.6"
  }
 },
 "nbformat": 4,
 "nbformat_minor": 5
}
